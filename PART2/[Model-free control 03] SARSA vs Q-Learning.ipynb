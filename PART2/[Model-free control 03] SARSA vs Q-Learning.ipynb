{
 "cells": [
  {
   "cell_type": "code",
   "execution_count": 1,
   "metadata": {},
   "outputs": [],
   "source": [
    "import sys; sys.path.append('..') # add project root to the python path"
   ]
  },
  {
   "cell_type": "code",
   "execution_count": 2,
   "metadata": {},
   "outputs": [],
   "source": [
    "import numpy as np\n",
    "import matplotlib.pyplot as plt\n",
    "from gym.envs.toy_text import CliffWalkingEnv\n",
    "\n",
    "from src.part2.temporal_difference import SARSA, QLearner\n",
    "from src.common.grid_visualization import visualize_value_function, visualize_policy\n",
    "\n",
    "np.random.seed(0)"
   ]
  },
  {
   "cell_type": "markdown",
   "metadata": {},
   "source": [
    "## SARSA와 Q-Learning\n",
    "\n",
    "SARSA 와 Q-learning 모두 TD기법을 활용하여 최적정책을 찾는 방법이었습니다. 하지만 이 두가지 알고리즘은 각각 on-policy 와 off-policy 라는 본질적인 차이를 가지고 있었던것 기억하시나요?\n",
    "\n",
    "> 1. on-policy 기법은 현재 평가하는 정책 $\\pi(a|s)$ 와 행동 정책 $\\mu(a|s)$이 동일\n",
    "> 2. off-policy 기법은 현재 평가하는 정책 $\\pi(a|s)$ 와 행동 정책 $\\mu(a|s)$이 다름\n",
    "\n",
    "즉 `Q-learning` 알고리즘은 환경으로부터 데이터를 얻기위해 사용했던 $\\epsilon$-탐욕적 정책 대신, 알고리즘의 성능을 평가하기 위해서, 현재 추산된 $Q(s,a)$로 탐욕적 정책을 사용할수 있다는 것입니다. 이번 실습에서는 새로운 환경에서 `SARSA`의 $\\epsilon$-탐욕적 정책과 `Q-learning`을 통해서 구한 $Q(s,a)$에 탐욕적 정책의 차이를 확인해볼까요?"
   ]
  },
  {
   "cell_type": "markdown",
   "metadata": {},
   "source": [
    "## `CliffWalkingEnv` \n",
    " \n",
    "이번 실습에서는 새로운 환경인 `CliffWalkingEnv`를 사용하겠습니다."
   ]
  },
  {
   "cell_type": "code",
   "execution_count": 3,
   "metadata": {},
   "outputs": [],
   "source": [
    "cliff_env = CliffWalkingEnv()"
   ]
  },
  {
   "cell_type": "markdown",
   "metadata": {},
   "source": [
    "## `CliffWalkingEnv` 돌아보기\n",
    "\n",
    "`CliffWalkingEnv` 는 일종의 그리드 환경입니다. \n",
    "1. 상태공간 $\\cal{S}$은 가로로 12칸 세로로 4칸인 격자 공간으로서, 총 48개의 상태 $s$ 가 존재합니다. <br>\n",
    "2. 행동 공간 $\\cal{A}$은 모든 상태 $s$에 대해서 `'상','우','하','좌'`입니다. 즉 4개의 행동이 존재합니다. <br>\n",
    "3. 초기상태 $s_0$은 항상 좌측 하단 셀로 고정되어 있습니다. 종결상태는 가장 오른쪽 하단입니다. 절벽상태 $c$는 초기상태와 종결상태를 제외한 모든 최하단 셀들입니다. <br>\n",
    "4. 보상함수는 매 이동마다 `-1` 이며 추가적으로 절벽 $c$ 에 도달할 때마다 `-100`을 받습니다. <br>\n",
    "5. 만약 절벽상태 $c$ 에 도달하면 다시 초기상태 $s_0$로 되돌아가게 됩니다. <br>"
   ]
  },
  {
   "cell_type": "code",
   "execution_count": 4,
   "metadata": {},
   "outputs": [
    {
     "name": "stdout",
     "output_type": "stream",
     "text": [
      "o  o  o  o  o  o  o  o  o  o  o  o\n",
      "o  o  o  o  o  o  o  o  o  o  o  o\n",
      "o  o  o  o  o  o  o  o  o  o  o  o\n",
      "x  C  C  C  C  C  C  C  C  C  C  T\n",
      "\n"
     ]
    }
   ],
   "source": [
    "cliff_env.render()"
   ]
  },
  {
   "cell_type": "markdown",
   "metadata": {},
   "source": [
    "## SARSA, Q-Learning 에이전트 초기화하기\n",
    "\n",
    "두개의 에이전트를 모두 동일한 파라미터로 초기화 하였습니다. $\\epsilon$ 의 경우 `적당하게` 낮은 0.1 정도로 설정해줍니다."
   ]
  },
  {
   "cell_type": "code",
   "execution_count": 5,
   "metadata": {},
   "outputs": [
    {
     "data": {
      "text/plain": [
       "(48, 4)"
      ]
     },
     "execution_count": 5,
     "metadata": {},
     "output_type": "execute_result"
    }
   ],
   "source": [
    "cliff_env.nS, cliff_env.nA"
   ]
  },
  {
   "cell_type": "code",
   "execution_count": 6,
   "metadata": {},
   "outputs": [],
   "source": [
    "sarsa_agent = SARSA(gamma=.9,\n",
    "                    lr=1e-1,\n",
    "                    num_states=cliff_env.nS,\n",
    "                    num_actions=cliff_env.nA,\n",
    "                    epsilon=0.1)\n",
    "\n",
    "q_agent = QLearner(gamma=.9,\n",
    "                   lr=1e-1,\n",
    "                   num_states=cliff_env.nS,\n",
    "                   num_actions=cliff_env.nA,\n",
    "                   epsilon=0.1)"
   ]
  },
  {
   "cell_type": "markdown",
   "metadata": {},
   "source": [
    "## 실험진행에 사용할 코드\n",
    "\n",
    "두개의 에이전트를 주어진 환경과 상호작용하고 그 상호작용의 결과로 얻어진 데이터로 학습시키는 코드를 준비했습니다."
   ]
  },
  {
   "cell_type": "code",
   "execution_count": 7,
   "metadata": {},
   "outputs": [],
   "source": [
    "def run_sarsa(agent, env):\n",
    "    \n",
    "    env.reset()\n",
    "    reward_sum = 0\n",
    "    \n",
    "    while True:\n",
    "        state = env.s\n",
    "        action = agent.get_action(state)\n",
    "        next_state, reward, done, info = env.step(action)\n",
    "        next_action = sarsa_agent.get_action(next_state)\n",
    "        reward_sum += reward\n",
    "        \n",
    "\n",
    "        agent.update_sample(state=state,\n",
    "                            action=action,\n",
    "                            reward=reward,\n",
    "                            next_state=next_state,\n",
    "                            next_action=next_action,\n",
    "                            done=done)\n",
    "    \n",
    "        if done:\n",
    "            break\n",
    "            \n",
    "    return reward_sum\n",
    "\n",
    "def run_qlearning(agent, env):\n",
    "    \n",
    "    env.reset()\n",
    "    reward_sum = 0\n",
    "    counter = 0\n",
    "    \n",
    "    while True:\n",
    "        state = env.s\n",
    "        action = agent.get_action(state)\n",
    "        next_state, reward, done, info = env.step(action)\n",
    "        reward_sum += reward\n",
    "        \n",
    "        agent.update_sample(state=state,\n",
    "                            action=action,\n",
    "                            reward=reward,\n",
    "                            next_state=next_state,\n",
    "                            done=done)    \n",
    "    \n",
    "        if done:\n",
    "            break\n",
    "                \n",
    "    return reward_sum"
   ]
  },
  {
   "cell_type": "markdown",
   "metadata": {},
   "source": [
    "## 실험을 진행해봅시다"
   ]
  },
  {
   "cell_type": "code",
   "execution_count": 8,
   "metadata": {},
   "outputs": [],
   "source": [
    "num_eps = 1500\n",
    "\n",
    "sarsa_rewards = []\n",
    "qlearning_rewards = []\n",
    "\n",
    "for i in range(num_eps):\n",
    "    sarsa_reward_sum = run_sarsa(sarsa_agent, cliff_env)\n",
    "    qlearning_reward_sum = run_qlearning(q_agent, cliff_env)\n",
    "    \n",
    "    sarsa_rewards.append(sarsa_reward_sum)\n",
    "    qlearning_rewards.append(qlearning_reward_sum)"
   ]
  },
  {
   "cell_type": "code",
   "execution_count": 9,
   "metadata": {},
   "outputs": [
    {
     "data": {
      "text/plain": [
       "<matplotlib.legend.Legend at 0x25ac3010e48>"
      ]
     },
     "execution_count": 9,
     "metadata": {},
     "output_type": "execute_result"
    },
    {
     "data": {
      "image/png": "[encoded data removed]",
      "text/plain": [
       "<Figure size 720x360 with 1 Axes>"
      ]
     },
     "metadata": {
      "needs_background": "light"
     },
     "output_type": "display_data"
    }
   ],
   "source": [
    "fig, ax = plt.subplots(1,1, figsize=(10,5))\n",
    "ax.grid()\n",
    "ax.plot(sarsa_rewards, label='SARSA episode reward')\n",
    "ax.plot(qlearning_rewards, label='Q-Learing episode reward', alpha=0.5)\n",
    "ax.legend()"
   ]
  },
  {
   "cell_type": "markdown",
   "metadata": {},
   "source": [
    "## 어? off-policy 인 Q-learning의 보상이 더 높을줄 알았는데...?\n",
    "\n",
    "off-policy인 Q-learning의 정책이 on-policy 인 SARSA의 보상보다 낮은 결과를 episode reward 를 얻었네요? 이게 무슨일일까요?\n",
    "\n",
    "> 정답은 0이 아닌 $\\epsilon$에 있습니다."
   ]
  },
  {
   "cell_type": "code",
   "execution_count": 10,
   "metadata": {},
   "outputs": [
    {
     "data": {
      "image/png": "[encoded data removed]",
      "text/plain": [
       "<Figure size 1440x720 with 2 Axes>"
      ]
     },
     "metadata": {
      "needs_background": "dark"
     },
     "output_type": "display_data"
    }
   ],
   "source": [
    "fig, ax = plt.subplots(2,1, figsize=(20, 10))\n",
    "visualize_policy(ax[0], sarsa_agent.q, cliff_env.shape[0], cliff_env.shape[1])\n",
    "_ = ax[0].set_title(\"SARSA policy\")\n",
    "\n",
    "visualize_policy(ax[1], q_agent.q, cliff_env.shape[0], cliff_env.shape[1])\n",
    "_ = ax[1].set_title(\"Q-Learning greedy policy\")"
   ]
  }
 ],
 "metadata": {
  "kernelspec": {
   "display_name": "Python 3",
   "language": "python",
   "name": "python3"
  },
  "language_info": {
   "codemirror_mode": {
    "name": "ipython",
    "version": 3
   },
   "file_extension": ".py",
   "mimetype": "text/x-python",
   "name": "python",
   "nbconvert_exporter": "python",
   "pygments_lexer": "ipython3",
   "version": "3.7.4"
  }
 },
 "nbformat": 4,
 "nbformat_minor": 4
}
