{
 "cells": [
  {
   "cell_type": "code",
   "execution_count": 1,
   "metadata": {},
   "outputs": [],
   "source": [
    "import sys; sys.path.append('..') # add project root to the python path"
   ]
  },
  {
   "cell_type": "code",
   "execution_count": 2,
   "metadata": {},
   "outputs": [],
   "source": [
    "import torch\n",
    "import gym\n",
    "import numpy as np\n",
    "\n",
    "from src.part3.MLP import MultiLayerPerceptron as MLP\n",
    "\n",
    "from src.part5.DQN import prepare_training_inputs\n",
    "from src.part5.DDPG import DDPG, Actor, Critic\n",
    "from src.part5.DDPG import OrnsteinUhlenbeckProcess as OUProcess\n",
    "from src.common.memory.memory import ReplayMemory\n",
    "from src.common.train_utils import to_tensor\n",
    "from src.common.target_update import soft_update"
   ]
  },
  {
   "cell_type": "markdown",
   "metadata": {},
   "source": [
    "# Pendulum Env\n",
    "\n",
    "\n",
    "\n",
    "DDPG는 연속적인 행동공간 $\\mathcal{A}$에서 정책함수를 모델링하기 위해서 사용되었던 강화학습 알고리즘이었습니다. DDPG의 특징을 제대로 살펴보기 위해서는 우리도 그에 적합한 환경을 찾아보는게 좋겠죠? 우리가 이번 실습에 활용할 환경은 `Pendulum-v0`라는 환경입니다.\n",
    "\n",
    "`Pendulum-v0` 환경의 상태 $s$ 는 Pendulum 의 각도 $\\theta$의 코사인 값 $\\cos(\\theta)$, 사인 값 $\\sin(\\theta)$, 그리고 각속도 $\\dot \\theta$ 로 구성되어 있습니다. 환경의 행동 $a$는 Pendulum의 끝에 좌/우 방향으로 최대 2.0 의 토크값을 줄수 있습니다. 즉, 우리의 행동공간 $\\mathcal{A} = [-2.0, 2.0]$ 입니다. 보상 $r$ 은 $\\theta$, $\\dot \\theta$, $a$ 가 0에 가까워 질수록 높은 보상을 받습니다. \n",
    "\n",
    "이렇게 설정된 MDP에서 우리의 목적은 Pendulum 을 최대한 곧게 위의 방향으로 세우는 것입니다."
   ]
  },
  {
   "cell_type": "code",
   "execution_count": 3,
   "metadata": {},
   "outputs": [
    {
     "data": {
      "text/html": [
       "<img src=\"images/pendulum.gif\">"
      ],
      "text/plain": [
       "<IPython.core.display.HTML object>"
      ]
     },
     "execution_count": 3,
     "metadata": {},
     "output_type": "execute_result"
    }
   ],
   "source": [
    "from IPython.display import HTML\n",
    "HTML('<img src=\"images/pendulum.gif\">')"
   ]
  },
  {
   "cell_type": "code",
   "execution_count": 4,
   "metadata": {},
   "outputs": [
    {
     "name": "stderr",
     "output_type": "stream",
     "text": [
      "/Users/junyoungpark/.pyenv/versions/3.7.5/envs/torch/lib/python3.7/site-packages/gym/logger.py:30: UserWarning: \u001b[33mWARN: Box bound precision lowered by casting to float32\u001b[0m\n",
      "  warnings.warn(colorize('%s: %s'%('WARN', msg % args), 'yellow'))\n"
     ]
    }
   ],
   "source": [
    "env = gym.make('Pendulum-v0')"
   ]
  },
  {
   "cell_type": "code",
   "execution_count": 5,
   "metadata": {},
   "outputs": [],
   "source": [
    "FROM_SCRATCH = False\n",
    "DEVICE = 'cuda' if torch.cuda.is_available() else 'cpu'"
   ]
  },
  {
   "cell_type": "markdown",
   "metadata": {},
   "source": [
    "## Deep deterministic Policy Gradient (DDPG)\n",
    "\n",
    "DDPG의 의사코드는 다음과 같습니다.\n",
    "\n",
    "<img src=\"./images/DDPG.png\" width=\"80%\" height=\"40%\" title=\"DDPG\" alt=\"DDPG\"></img>\n",
    "\n",
    "python 으로 DDPG를 한번 구현해볼까요?\n",
    "```python\n",
    "class DDPG(nn.Module):\n",
    "\n",
    "    def __init__(self,\n",
    "                 critic: nn.Module,\n",
    "                 critic_target: nn.Module,\n",
    "                 actor: nn.Module,\n",
    "                 actor_target: nn.Module,\n",
    "                 lr_critic: float = 0.0005,\n",
    "                 lr_actor: float = 0.001,\n",
    "                 gamma: float = 0.99):\n",
    "\n",
    "        super(DDPG, self).__init__()\n",
    "        self.critic = critic\n",
    "        self.actor = actor\n",
    "        self.lr_critic = lr_critic\n",
    "        self.lr_actor = lr_actor\n",
    "        self.gamma = gamma\n",
    "\n",
    "        # setup optimizers\n",
    "        self.critic_opt = torch.optim.Adam(params=self.critic.parameters(),\n",
    "                                           lr=lr_critic)\n",
    "\n",
    "        self.actor_opt = torch.optim.Adam(params=self.actor.parameters(),\n",
    "                                          lr=lr_actor)\n",
    "\n",
    "        # setup target networks\n",
    "        critic_target.load_state_dict(critic.state_dict())\n",
    "        self.critic_target = critic_target\n",
    "        actor_target.load_state_dict(actor.state_dict())\n",
    "        self.actor_target = actor_target\n",
    "\n",
    "        self.criteria = nn.SmoothL1Loss()\n",
    "\n",
    "    def get_action(self, state):\n",
    "        with torch.no_grad():\n",
    "            a = self.actor(state)\n",
    "        return a\n",
    "\n",
    "    def update(self, state, action, reward, next_state, done):\n",
    "        s, a, r, ns = state, action, reward, next_state\n",
    "\n",
    "        # compute critic loss and update the critic parameters\n",
    "        with torch.no_grad():\n",
    "            critic_target = r + self.gamma * self.critic_target(ns, self.actor_target(ns)) * (1 - done)\n",
    "        critic_loss = self.criteria(self.critic(s, a), critic_target)\n",
    "\n",
    "        self.critic_opt.zero_grad()\n",
    "        critic_loss.backward()\n",
    "        self.critic_opt.step()\n",
    "\n",
    "        # compute actor loss and update the actor parameters\n",
    "        actor_loss = -self.critic(s, self.actor(s)).mean()  # !!!! Impressively simple\n",
    "        self.actor_opt.zero_grad()\n",
    "        actor_loss.backward()\n",
    "        self.actor_opt.step()\n",
    "```"
   ]
  },
  {
   "cell_type": "markdown",
   "metadata": {},
   "source": [
    "## Soft-target update\n",
    "\n",
    "Soft-target update는 moving target issue를 줄여 주기위해서 사용되는 trick 입니다. `pytorch` 에서는 간단하게\n",
    "target network의 파라미터 update 대상이 되는 network의 파라미터를 복사하는 형태로, soft-target update를 진행할 수 있습니다. \n",
    "코드로 살펴볼까요?\n",
    "\n",
    "```python\n",
    "def soft_update(net, net_target, tau):\n",
    "    for param_target, param in zip(net_target.parameters(), net.parameters()):\n",
    "        param_target.data.copy_(param_target.data * (1.0 - tau) + param.data * tau)\n",
    "\n",
    "```"
   ]
  },
  {
   "cell_type": "markdown",
   "metadata": {},
   "source": [
    "## Actor 와 Critic 의 구조\n",
    "\n",
    "`Pendulum-v0` 환경에 적합한 Actor 와 Critic Network를 디자인해볼까요? 앞서 이야기한대로 행동공간 $\\mathcal{A} = [-2.0, 2.0]$ 입니다. 기존에 우리가 다루었던 모델들은 모델의 출력치의 범위가 제한되어있지 않았었는데, 모델의 출력치를 제한하려면 어떤방식을 사용할 수 있을까요? 정답은 마지막 레이어의 Activation 함수를 잘 조절해주는 것입니다.\n",
    "\n",
    "```python\n",
    "class Actor(nn.Module):\n",
    "\n",
    "    def __init__(self):\n",
    "        super(Actor, self).__init__()\n",
    "        self.mlp = MLP(3, 1,\n",
    "                       num_neurons=[128, 64],\n",
    "                       hidden_act='ReLU',\n",
    "                       out_act='Identity')\n",
    "\n",
    "    def forward(self, state):\n",
    "        # Action space of Pendulum v0 is [-2.0, 2.0]\n",
    "        return self.mlp(state).clamp(-2.0, 2.0)\n",
    "```\n",
    "\n",
    "`Critic`은 $Q(s,a|\\theta^Q)$ 는 서로 다른 종류의 입력인 $s, a$를 받습니다. 이런 경우에는 많은 경우에, 뉴럴 네트워크의 인풋수준에서 두개의 텐서를 하나로 합치는 `concatentation` 오퍼레이터를 많이 사용합니다. 예를 들어 $sa = [s ; a]$. 그 후 하나로 합쳐진 인풋을 $Q(s,a|\\theta^Q)$ 의 입력으로 넘겨주게 됩니다. 하지만 이번 실습에서는 조금 다른 형태를 사용해보려고 합니다. 각각의 서로다른 종류의 입력, 즉 정보, 를 각각의 sub-network를 통과시킨후 한번 가공된 정보인 hidden vector를 하나로 합친후, 합쳐진 hidden vector에서 Q(s,a)를 추산하는 모델을 만들어 보겠습니다.\n",
    "\n",
    "```python\n",
    "class Critic(nn.Module):\n",
    "\n",
    "    def __init__(self):\n",
    "        super(Critic, self).__init__()\n",
    "        self.state_encoder = MLP(3, 64,\n",
    "                                 num_neurons=[],\n",
    "                                 out_act='ReLU')  # single layer model\n",
    "        self.action_encoder = MLP(1, 64,\n",
    "                                  num_neurons=[],\n",
    "                                  out_act='ReLU')  # single layer model\n",
    "        self.q_estimator = MLP(128, 1,\n",
    "                               num_neurons=[32],\n",
    "                               hidden_act='ReLU',\n",
    "                               out_act='Identity')\n",
    "\n",
    "    def forward(self, x, a):\n",
    "        emb = torch.cat([self.state_encoder(x), self.action_encoder(a)], dim=-1)\n",
    "        return self.q_estimator(emb)\n",
    "```"
   ]
  },
  {
   "cell_type": "code",
   "execution_count": 6,
   "metadata": {},
   "outputs": [],
   "source": [
    "lr_actor = 0.005\n",
    "lr_critic = 0.001\n",
    "gamma = 0.99\n",
    "batch_size = 256\n",
    "memory_size = 50000\n",
    "tau = 0.001 # polyak parameter for soft target update\n",
    "sampling_only_until = 2000"
   ]
  },
  {
   "cell_type": "code",
   "execution_count": 7,
   "metadata": {},
   "outputs": [],
   "source": [
    "actor, actor_target = Actor(), Actor()\n",
    "critic, critic_target = Critic(), Critic()\n",
    "\n",
    "agent = DDPG(critic=critic,\n",
    "             critic_target=critic_target,\n",
    "             actor=actor,\n",
    "             actor_target=actor_target).to(DEVICE)\n",
    "\n",
    "memory = ReplayMemory(memory_size)"
   ]
  },
  {
   "cell_type": "code",
   "execution_count": 8,
   "metadata": {},
   "outputs": [],
   "source": [
    "total_eps = 200\n",
    "print_every = 10\n",
    "\n",
    "env = gym.make('Pendulum-v0')\n",
    "\n",
    "if FROM_SCRATCH:\n",
    "    for n_epi in range(total_eps):\n",
    "        ou_noise = OUProcess(mu=np.zeros(1))\n",
    "        s = env.reset()\n",
    "        cum_r = 0\n",
    "\n",
    "        while True:\n",
    "            s = to_tensor(s, size=(1, 3)).to(DEVICE)\n",
    "            a = agent.get_action(s).cpu().numpy() + ou_noise()[0]\n",
    "            ns, r, done, info = env.step(a)\n",
    "\n",
    "            experience = (s,\n",
    "                          torch.tensor(a).view(1, 1),\n",
    "                          torch.tensor(r).view(1, 1),\n",
    "                          torch.tensor(ns).view(1, 3),\n",
    "                          torch.tensor(done).view(1, 1))\n",
    "            memory.push(experience)\n",
    "\n",
    "            s = ns\n",
    "            cum_r += r\n",
    "\n",
    "            if len(memory) >= sampling_only_until:\n",
    "                # train agent\n",
    "                sampled_exps = memory.sample(batch_size)\n",
    "                sampled_exps = prepare_training_inputs(sampled_exps, device=DEVICE)\n",
    "                agent.update(*sampled_exps)\n",
    "                # update target networks\n",
    "                soft_update(agent.actor, agent.actor_target, tau)\n",
    "                soft_update(agent.critic, agent.critic_target, tau)        \n",
    "\n",
    "            if done:\n",
    "                break\n",
    "\n",
    "        if n_epi % print_every == 0:\n",
    "            msg = (n_epi, cum_r) # ~ -100 cumulative reward = \"solved\"\n",
    "            print(\"Episode : {} | Cumulative Reward : {} |\".format(*msg))\n",
    "\n",
    "    torch.save(agent.state_dict(), 'ddpg_cartpole_user_trained.ptb')\n",
    "else:\n",
    "    agent.load_state_dict(torch.load('ddpg_cartpole.ptb'))"
   ]
  },
  {
   "cell_type": "code",
   "execution_count": 9,
   "metadata": {},
   "outputs": [],
   "source": [
    "env = gym.make('Pendulum-v0')\n",
    "\n",
    "s = env.reset()\n",
    "cum_r = 0\n",
    "\n",
    "while True:\n",
    "    s = to_tensor(s, size=(1, 3)).to(DEVICE)\n",
    "    a = agent.get_action(s).to('cpu').numpy()\n",
    "    ns, r, done, info = env.step(a)\n",
    "    s = ns\n",
    "    env.render()\n",
    "    if done:\n",
    "        break\n",
    "    \n",
    "env.close()"
   ]
  },
  {
   "cell_type": "code",
   "execution_count": null,
   "metadata": {},
   "outputs": [],
   "source": []
  }
 ],
 "metadata": {
  "kernelspec": {
   "display_name": "Python 3 (ipykernel)",
   "language": "python",
   "name": "python3"
  },
  "language_info": {
   "codemirror_mode": {
    "name": "ipython",
    "version": 3
   },
   "file_extension": ".py",
   "mimetype": "text/x-python",
   "name": "python",
   "nbconvert_exporter": "python",
   "pygments_lexer": "ipython3",
   "version": "3.7.13"
  }
 },
 "nbformat": 4,
 "nbformat_minor": 4
}
